{
 "cells": [
  {
   "cell_type": "code",
   "execution_count": 1,
   "id": "f1a45907",
   "metadata": {},
   "outputs": [],
   "source": [
    "import matplotlib.pyplot as plt\n",
    "import numpy as np\n",
    "import tensorflow as tf\n",
    "\n",
    "from tensorflow import keras\n",
    "from tensorflow.keras import layers, datasets, models\n",
    "from tensorflow.keras.models import Sequential"
   ]
  },
  {
   "cell_type": "markdown",
   "id": "83228461",
   "metadata": {},
   "source": [
    "# Prepare Dataset"
   ]
  },
  {
   "cell_type": "code",
   "execution_count": 2,
   "id": "6b295177",
   "metadata": {},
   "outputs": [
    {
     "name": "stdout",
     "output_type": "stream",
     "text": [
      "TRAIN IMAGES:  (60000, 28, 28, 1)\n",
      "TEST IMAGES:  (10000, 28, 28, 1)\n"
     ]
    }
   ],
   "source": [
    "(train_images, train_labels), (test_images, test_labels) = datasets.mnist.load_data()\n",
    "\n",
    "train_images = train_images.reshape((60000, 28, 28, 1))\n",
    "test_images = test_images.reshape((10000, 28, 28, 1))\n",
    "\n",
    "# Normalize pixel values to be between 0 and 1\n",
    "train_images, test_images = train_images / 255.0, test_images / 255.0\n",
    "\n",
    "print(\"TRAIN IMAGES: \", train_images.shape)\n",
    "print(\"TEST IMAGES: \", test_images.shape)"
   ]
  },
  {
   "cell_type": "markdown",
   "id": "500b16ac",
   "metadata": {},
   "source": [
    "# Create Model"
   ]
  },
  {
   "cell_type": "code",
   "execution_count": 3,
   "id": "d6759040",
   "metadata": {},
   "outputs": [],
   "source": [
    "num_classes = 10\n",
    "img_height = 28\n",
    "img_width = 28\n",
    "\n",
    "model = Sequential([\n",
    "    layers.Conv2D(64, (3, 3), activation='relu', input_shape=(28, 28, 1)),\n",
    "    layers.Conv2D(32, 3, padding='same', activation='relu'),\n",
    "    layers.MaxPooling2D(),\n",
    "    layers.Conv2D(16, 3, padding='same', activation='relu'),\n",
    "    layers.MaxPooling2D(),\n",
    "    layers.Conv2D(64, 3, padding='same', activation='relu'),\n",
    "    layers.MaxPooling2D(),\n",
    "    layers.Flatten(),\n",
    "    layers.Dense(128, activation='relu'),\n",
    "    layers.Dense(10, activation='sigmoid')\n",
    "])"
   ]
  },
  {
   "cell_type": "markdown",
   "id": "8c2f915b",
   "metadata": {},
   "source": [
    "# Compile Model"
   ]
  },
  {
   "cell_type": "code",
   "execution_count": 4,
   "id": "1db92d00",
   "metadata": {},
   "outputs": [],
   "source": [
    "model.compile(optimizer='adam',\n",
    "              loss=tf.keras.losses.SparseCategoricalCrossentropy(from_logits=True),\n",
    "              metrics=['accuracy'])"
   ]
  },
  {
   "cell_type": "code",
   "execution_count": 5,
   "id": "f89de71c",
   "metadata": {},
   "outputs": [
    {
     "name": "stdout",
     "output_type": "stream",
     "text": [
      "Model: \"sequential\"\n",
      "_________________________________________________________________\n",
      " Layer (type)                Output Shape              Param #   \n",
      "=================================================================\n",
      " conv2d (Conv2D)             (None, 26, 26, 64)        640       \n",
      "                                                                 \n",
      " conv2d_1 (Conv2D)           (None, 26, 26, 32)        18464     \n",
      "                                                                 \n",
      " max_pooling2d (MaxPooling2D  (None, 13, 13, 32)       0         \n",
      " )                                                               \n",
      "                                                                 \n",
      " conv2d_2 (Conv2D)           (None, 13, 13, 16)        4624      \n",
      "                                                                 \n",
      " max_pooling2d_1 (MaxPooling  (None, 6, 6, 16)         0         \n",
      " 2D)                                                             \n",
      "                                                                 \n",
      " conv2d_3 (Conv2D)           (None, 6, 6, 64)          9280      \n",
      "                                                                 \n",
      " max_pooling2d_2 (MaxPooling  (None, 3, 3, 64)         0         \n",
      " 2D)                                                             \n",
      "                                                                 \n",
      " flatten (Flatten)           (None, 576)               0         \n",
      "                                                                 \n",
      " dense (Dense)               (None, 128)               73856     \n",
      "                                                                 \n",
      " dense_1 (Dense)             (None, 10)                1290      \n",
      "                                                                 \n",
      "=================================================================\n",
      "Total params: 108,154\n",
      "Trainable params: 108,154\n",
      "Non-trainable params: 0\n",
      "_________________________________________________________________\n"
     ]
    }
   ],
   "source": [
    "model.summary()"
   ]
  },
  {
   "cell_type": "markdown",
   "id": "f0fcfc72",
   "metadata": {},
   "source": [
    "# Train Model"
   ]
  },
  {
   "cell_type": "code",
   "execution_count": 6,
   "id": "c1326080",
   "metadata": {},
   "outputs": [
    {
     "name": "stdout",
     "output_type": "stream",
     "text": [
      "Epoch 1/20\n"
     ]
    },
    {
     "name": "stderr",
     "output_type": "stream",
     "text": [
      "C:\\Users\\nihar\\AppData\\Local\\Programs\\Python\\Python310\\lib\\site-packages\\keras\\backend.py:5585: UserWarning: \"`sparse_categorical_crossentropy` received `from_logits=True`, but the `output` argument was produced by a Softmax activation and thus does not represent logits. Was this intended?\n",
      "  output, from_logits = _get_logits(\n"
     ]
    },
    {
     "name": "stdout",
     "output_type": "stream",
     "text": [
      "1875/1875 [==============================] - 101s 53ms/step - loss: 0.1423 - accuracy: 0.9557\n",
      "Epoch 2/20\n",
      "1875/1875 [==============================] - 100s 53ms/step - loss: 0.0450 - accuracy: 0.9860\n",
      "Epoch 3/20\n",
      "1875/1875 [==============================] - 99s 53ms/step - loss: 0.0331 - accuracy: 0.9899\n",
      "Epoch 4/20\n",
      "1875/1875 [==============================] - 99s 53ms/step - loss: 0.0265 - accuracy: 0.9915\n",
      "Epoch 5/20\n",
      "1875/1875 [==============================] - 100s 53ms/step - loss: 0.0234 - accuracy: 0.9925\n",
      "Epoch 6/20\n",
      "1875/1875 [==============================] - 99s 53ms/step - loss: 0.0183 - accuracy: 0.9942\n",
      "Epoch 7/20\n",
      "1875/1875 [==============================] - 99s 53ms/step - loss: 0.0151 - accuracy: 0.9952\n",
      "Epoch 8/20\n",
      "1875/1875 [==============================] - 101s 54ms/step - loss: 0.0134 - accuracy: 0.9955\n",
      "Epoch 9/20\n",
      "1875/1875 [==============================] - 100s 54ms/step - loss: 0.0129 - accuracy: 0.9959\n",
      "Epoch 10/20\n",
      "1875/1875 [==============================] - 100s 53ms/step - loss: 0.0112 - accuracy: 0.9965\n",
      "Epoch 11/20\n",
      "1875/1875 [==============================] - 104s 56ms/step - loss: 0.0099 - accuracy: 0.9965\n",
      "Epoch 12/20\n",
      "1875/1875 [==============================] - 100s 53ms/step - loss: 0.0090 - accuracy: 0.9973\n",
      "Epoch 13/20\n",
      "1875/1875 [==============================] - 103s 55ms/step - loss: 0.0084 - accuracy: 0.9971\n",
      "Epoch 14/20\n",
      "1875/1875 [==============================] - 100s 53ms/step - loss: 0.0083 - accuracy: 0.9974\n",
      "Epoch 15/20\n",
      "1875/1875 [==============================] - 100s 53ms/step - loss: 0.0083 - accuracy: 0.9974\n",
      "Epoch 16/20\n",
      "1875/1875 [==============================] - 100s 53ms/step - loss: 0.0072 - accuracy: 0.9976\n",
      "Epoch 17/20\n",
      "1875/1875 [==============================] - 100s 53ms/step - loss: 0.0072 - accuracy: 0.9979\n",
      "Epoch 18/20\n",
      "1875/1875 [==============================] - 102s 54ms/step - loss: 0.0061 - accuracy: 0.9979\n",
      "Epoch 19/20\n",
      "1875/1875 [==============================] - 101s 54ms/step - loss: 0.0072 - accuracy: 0.9979\n",
      "Epoch 20/20\n",
      "1875/1875 [==============================] - 101s 54ms/step - loss: 0.0067 - accuracy: 0.9979\n"
     ]
    }
   ],
   "source": [
    "epochs = 20\n",
    "history = model.fit(\n",
    "  train_images, \n",
    "  train_labels,\n",
    "  epochs = epochs\n",
    ")"
   ]
  },
  {
   "cell_type": "markdown",
   "id": "0312ca52",
   "metadata": {},
   "source": [
    "# Visualize Training Results"
   ]
  },
  {
   "cell_type": "code",
   "execution_count": 7,
   "id": "eb8ebf26",
   "metadata": {},
   "outputs": [
    {
     "data": {
      "text/plain": [
       "Text(0.5, 1.0, 'Training Accuracy and Loss')"
      ]
     },
     "execution_count": 7,
     "metadata": {},
     "output_type": "execute_result"
    },
    {
     "data": {
      "image/png": "[encoded data removed]",
      "text/plain": [
       "<Figure size 576x576 with 1 Axes>"
      ]
     },
     "metadata": {
      "needs_background": "light"
     },
     "output_type": "display_data"
    }
   ],
   "source": [
    "acc = history.history['accuracy']\n",
    "loss=history.history['loss']\n",
    "\n",
    "epochs_range = range(epochs)\n",
    "\n",
    "plt.figure(figsize=(8, 8))\n",
    "plt.plot(epochs_range, acc, label='Training Accuracy')\n",
    "plt.plot(epochs_range, loss, label='Loss')\n",
    "plt.legend(loc='lower right')\n",
    "plt.title('Training Accuracy and Loss')"
   ]
  },
  {
   "cell_type": "markdown",
   "id": "47bdaf7c",
   "metadata": {},
   "source": [
    "# Save Model"
   ]
  },
  {
   "cell_type": "code",
   "execution_count": 8,
   "id": "dc550a01",
   "metadata": {},
   "outputs": [],
   "source": [
    "model.save(\"mnist.h5\")"
   ]
  },
  {
   "cell_type": "code",
   "execution_count": null,
   "id": "d019fbc4",
   "metadata": {},
   "outputs": [],
   "source": []
  }
 ],
 "metadata": {
  "kernelspec": {
   "display_name": "Python 3 (ipykernel)",
   "language": "python",
   "name": "python3"
  },
  "language_info": {
   "codemirror_mode": {
    "name": "ipython",
    "version": 3
   },
   "file_extension": ".py",
   "mimetype": "text/x-python",
   "name": "python",
   "nbconvert_exporter": "python",
   "pygments_lexer": "ipython3",
   "version": "3.10.1"
  }
 },
 "nbformat": 4,
 "nbformat_minor": 5
}
